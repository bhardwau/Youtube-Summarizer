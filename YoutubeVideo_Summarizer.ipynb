{
  "nbformat": 4,
  "nbformat_minor": 0,
  "metadata": {
    "colab": {
      "name": "YoutubeVideo-Summarizer",
      "provenance": [],
      "collapsed_sections": []
    },
    "kernelspec": {
      "name": "python3",
      "display_name": "Python 3"
    }
  },
  "cells": [
    {
      "cell_type": "code",
      "metadata": {
        "id": "pR-fQY4aqvXb",
        "colab_type": "code",
        "colab": {}
      },
      "source": [
        "from transformer import pipeline\n",
        "from youtube_transcript_api import YouTubeTranscriptApi\n",
        "\n",
        "\n",
        "\n",
        "#Add video_id of the youtube video for summarization\n",
        "youtube_vid = \"https://www.youtube.com/watch?v=GlYwg0Ky2Ew\"\n",
        "video_id = youtube_vid.split(\"watch?v=\")\n",
        "video_id = video_id[1]\n",
        "YouTubeTranscriptApi.get_transcript(video_id)\n",
        "trans = YouTubeTranscriptApi.get_transcript(video_id)\n",
        "res = \"\"\n",
        "for i in trans:\n",
        "    res += ' ' + i['text']\n",
        "print(res)\n",
        "print(len(res))"
      ],
      "execution_count": null,
      "outputs": []
    },
    {
      "cell_type": "code",
      "metadata": {
        "id": "Etb6cXg9rC6A",
        "colab_type": "code",
        "colab": {}
      },
      "source": [
        "#Calling pipeline from HuggingFace BART \n",
        "summarizer = pipeline('summarization')\n",
        "\n",
        "\n",
        "#Running the summarizer in batches for better results.\n",
        "num_iters = int(len(res)/1000)\n",
        "result = []\n",
        "for i in range(0, num_iters + 1):\n",
        "  start = 0\n",
        "  start = i * 1000\n",
        "  end = (i + 1) * 1000\n",
        "  sum_text = res[start:end]\n",
        "  out = summarizer(sum_text)\n",
        "  out = out[0]\n",
        "  out = out['summary_text']\n",
        "  result.append(out)\n",
        "\n",
        "print(result)\n"
      ],
      "execution_count": null,
      "outputs": []
    }
  ]
}